{
 "cells": [
  {
   "cell_type": "code",
   "execution_count": 1,
   "metadata": {},
   "outputs": [],
   "source": [
    "import pandas as pd\n",
    "import numpy as np\n",
    "from pprint import pprint\n",
    "import math"
   ]
  },
  {
   "cell_type": "code",
   "execution_count": 2,
   "metadata": {},
   "outputs": [],
   "source": [
    "df = pd.read_csv('Dataset/AdmissionDataset/data.csv')\n",
    "train = df.sample(frac=0.8, random_state=200)\n",
    "validation = df.drop(train.index)\n",
    "columns = ['GRE Score', 'TOEFL Score', 'University Rating', 'SOP', 'LOR ', 'CGPA', 'Research']\n",
    "label = 'Chance of Admit '"
   ]
  },
  {
   "cell_type": "code",
   "execution_count": 3,
   "metadata": {},
   "outputs": [
    {
     "name": "stdout",
     "output_type": "stream",
     "text": [
      "MSE:  0.0614879379208\n",
      "MAE:  0.196792899095\n",
      "MAPE:  30.2047987547\n"
     ]
    }
   ],
   "source": [
    "def stats(predicted, actual):\n",
    "    mse = 0.0\n",
    "    mae = 0.0\n",
    "    mape = 0.0\n",
    "    for i in  range(len(predicted)):\n",
    "        mse += math.pow((predicted[i] - actual[i]), 2)\n",
    "        mae += abs(predicted[i] - actual[i])\n",
    "        mape += abs((actual[i] - predicted[i])/actual[i])\n",
    "    print 'MSE: ', float(mse)/len(predicted)\n",
    "    print 'MAE: ', float(mae)/len(predicted)\n",
    "    print 'MAPE: ', float(mape * 100)/len(predicted)\n",
    "\n",
    "def lr(tdata, vdata):\n",
    "    X = np.concatenate((np.ones(len(tdata))[:, np.newaxis], tdata.iloc[:, 0:7].values), axis = 1)\n",
    "    Y = np.array(tdata.iloc[:, 7:8])\n",
    "    B = np.zeros(8)\n",
    "    mat = np.matmul(X.T, X)\n",
    "    inv_mat = np.linalg.inv(mat)\n",
    "    mat = np.matmul(inv_mat, X.T)\n",
    "    B = np.matmul(mat, Y)\n",
    "    \n",
    "    actual = vdata[label].values\n",
    "    \n",
    "    pre_X = np.concatenate((np.ones(len(vdata))[:, np.newaxis], vdata.iloc[:, 0:7].values), axis = 1)\n",
    "    pre_Y = np.matmul(B.T, pre_X.T)\n",
    "    predicted = pre_Y[0]\n",
    "    stats(predicted, actual)\n",
    "    \n",
    "lr(train, validation)"
   ]
  }
 ],
 "metadata": {
  "kernelspec": {
   "display_name": "Python 2",
   "language": "python",
   "name": "python2"
  },
  "language_info": {
   "codemirror_mode": {
    "name": "ipython",
    "version": 2
   },
   "file_extension": ".py",
   "mimetype": "text/x-python",
   "name": "python",
   "nbconvert_exporter": "python",
   "pygments_lexer": "ipython2",
   "version": "2.7.10"
  }
 },
 "nbformat": 4,
 "nbformat_minor": 2
}
